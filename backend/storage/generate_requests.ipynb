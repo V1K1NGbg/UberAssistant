{
 "cells": [
  {
   "cell_type": "code",
   "execution_count": 7,
   "id": "1b24d958",
   "metadata": {},
   "outputs": [],
   "source": [
    "import pandas as pd\n",
    "import json\n",
    "\n",
    "data = pd.read_csv('../../data/uber_hackathon_v2_mock_data.xlsx - rides_trips.csv')\n",
    "data = data[data['city_id'] == 1]\n",
    "\n",
    "column = ['pickup_lat', 'pickup_lon', 'drop_lat', 'drop_lon', 'duration_mins', 'net_earnings']\n",
    "data = data[column]\n",
    "\n",
    "data['customer_id'] = [f\"C{3000 + i}\" for i in range(len(data))]\n",
    "\n",
    "average_lat = data['pickup_lat'].mean()\n",
    "average_lon = data['pickup_lon'].mean()\n",
    "\n",
    "density_data = {\n",
    "    \"density_points\": [average_lat, average_lon]\n",
    "}\n",
    "\n",
    "with open('density_data.json', 'w') as f:\n",
    "    json.dump(density_data, f, indent=2)\n",
    "\n",
    "data.to_json('requests.json', orient='records', indent=2)"
   ]
  }
 ],
 "metadata": {
  "kernelspec": {
   "display_name": "Python 3",
   "language": "python",
   "name": "python3"
  },
  "language_info": {
   "codemirror_mode": {
    "name": "ipython",
    "version": 3
   },
   "file_extension": ".py",
   "mimetype": "text/x-python",
   "name": "python",
   "nbconvert_exporter": "python",
   "pygments_lexer": "ipython3",
   "version": "3.13.0"
  }
 },
 "nbformat": 4,
 "nbformat_minor": 5
}
