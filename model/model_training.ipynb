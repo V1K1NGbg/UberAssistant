{
  "cells": [
    {
      "cell_type": "code",
      "execution_count": null,
      "metadata": {
        "id": "AvgDbZPNqTdw"
      },
      "outputs": [],
      "source": [
        "import random\n",
        "import math\n",
        "import numpy as np\n",
        "import pandas as pd\n",
        "from sdv.single_table import GaussianCopulaSynthesizer"
      ]
    },
    {
      "cell_type": "code",
      "execution_count": null,
      "metadata": {
        "id": "QifKBpvUm6Qg"
      },
      "outputs": [],
      "source": [
        "# Generates a new population\n",
        "# pop_num - the size of the population\n",
        "def generate_pop(pop_num):\n",
        "  population = []\n",
        "\n",
        "  for _ in range(0, pop_num):\n",
        "    individual = (random() * 5, random() * -5, random() * -5, random() * -5)\n",
        "    population.append(individual)"
      ]
    },
    {
      "cell_type": "code",
      "execution_count": null,
      "metadata": {
        "id": "71YwfFNevDm5"
      },
      "outputs": [],
      "source": [
        "# crossover with 2 parents\n",
        "def crossover(parent1, parent2, prob=0.7):\n",
        "  if (random > prob):\n",
        "    return parent1, parent2\n",
        "\n",
        "  parent_pref = 0.6\n",
        "  child1 = (parent1[0] * parent_pref + parent2[0] * (1 - parent_pref), parent1[1] * parent_pref + parent2[1] * (1 - parent_pref),\n",
        "            parent1[2] * parent_pref + parent2[2] * (1 - parent_pref), parent1[3] * parent_pref + parent2[3] * (1 - parent_pref))\n",
        "  child2 = (parent1[0] * (1 - parent_pref) + parent2[0] * parent_pref, parent1[1] * (1 - parent_pref) + parent2[1] * parent_pref,\n",
        "            parent1[2] * (1 - parent_pref) + parent2[2] * parent_pref, parent1[3] * (1 - parent_pref) + parent2[3] * parent_pref)\n",
        "\n",
        "  return child1, child2"
      ]
    },
    {
      "cell_type": "code",
      "execution_count": null,
      "metadata": {
        "id": "dGozRlDHuihF"
      },
      "outputs": [],
      "source": [
        "# mutation on one individual\n",
        "def mutation(individual, prob=0.01):\n",
        "  if (random > prob):\n",
        "    return individual\n",
        "\n",
        "  random_param = random.randint(0, 3)\n",
        "  individual[random_param] = random() * 5 if random_param == 0 else random() * -5"
      ]
    },
    {
      "cell_type": "code",
      "execution_count": null,
      "metadata": {},
      "outputs": [],
      "source": [
        "point = (0,0) # center of requests\n",
        "\n",
        "def distance_measure(request):\n",
        "  return math.sqrt((request.end_longitude-point.x) ** 2 + (request.end_latitude-point.y) ** 2)\n",
        "\n",
        "def get_score(driver, request):\n",
        "    driver.x*request.money + driver.y*request.time + driver.z*request.distance + driver.w*distance_measure(request)\n",
        "\n",
        "def get_best(driver, requests, cur_ind, nxt_ind):\n",
        "\n",
        "  best_score = get_score(driver, requests[cur_ind])\n",
        "  best_ind = cur_ind\n",
        "  for i in range(cur_ind+1, nxt_ind):\n",
        "    cur_score = get_score(driver, requests[i])\n",
        "    if(cur_score > best_score):\n",
        "      best_ind = i\n",
        "\n",
        "  return best_ind\n",
        "\n",
        "x = 0.5\n",
        "# computes the money gained by the driver for the expected requests\n",
        "def iteration(driver, requests):\n",
        "  money = 0\n",
        "  current_time = 0\n",
        "  for i in range(0, len(requests)):\n",
        "    if (requests[i].start_time < current_time):\n",
        "      continue\n",
        "\n",
        "    request_score = get_score(driver, requests[i])\n",
        "    if (request_score > x):\n",
        "      current_time = requests[i].start_time + requests[i].duration\n",
        "      money += request_score\n",
        "\n",
        "  return money"
      ]
    },
    {
      "cell_type": "code",
      "execution_count": null,
      "metadata": {
        "id": "mGe_KdNhvLyP"
      },
      "outputs": [],
      "source": [
        "# finds optimal parameters\n",
        "# takes get_best function, ..., requests throughtout the day\n",
        "def train(get_best, price, time, pick_up_distance, destination_score, requests, iter=100):\n",
        "  population = generate_pop(100)\n",
        "\n",
        "  best_one = population[0]\n",
        "  for _ in range(0, iter):\n",
        "    earnings = []\n",
        "    earnings_sum = 0\n",
        "    for i in range(0, len(population)):\n",
        "      earning = iteration(population[i], requests)\n",
        "      earnings_sum += earning\n",
        "      earnings.append(earning)\n",
        "\n",
        "    best_index = earnings.index(max(earnings))\n",
        "    best_one = population[best_index]\n",
        "\n",
        "    probs = []\n",
        "    for i in range(0, len(population)):\n",
        "      prob = earnings[i] / earnings_sum\n",
        "      probs.append(prob)\n",
        "\n",
        "    new_population = []\n",
        "    for i in range(0, len(population) // 2):\n",
        "      parents = random.choices(population, weights=probs, k=2)\n",
        "\n",
        "      child1, child2 = crossover(parents[0], parents[1])\n",
        "      child1 = mutation(child1)\n",
        "      child2 = mutation(child2)\n",
        "\n",
        "      new_population.append(child1)\n",
        "      new_population.append(child2)\n",
        "\n",
        "  return best_one"
      ]
    },
    {
      "cell_type": "code",
      "execution_count": null,
      "metadata": {},
      "outputs": [
        {
          "ename": "TypeError",
          "evalue": "GaussianCopulaSynthesizer.__init__() missing 1 required positional argument: 'metadata'",
          "output_type": "error",
          "traceback": [
            "\u001b[1;31m---------------------------------------------------------------------------\u001b[0m",
            "\u001b[1;31mTypeError\u001b[0m                                 Traceback (most recent call last)",
            "Cell \u001b[1;32mIn[3], line 1\u001b[0m\n\u001b[1;32m----> 1\u001b[0m model \u001b[38;5;241m=\u001b[39m \u001b[43mGaussianCopulaSynthesizer\u001b[49m\u001b[43m(\u001b[49m\u001b[43m)\u001b[49m\n\u001b[0;32m      2\u001b[0m data \u001b[38;5;241m=\u001b[39m pd\u001b[38;5;241m.\u001b[39mread_csv(\u001b[38;5;124m'\u001b[39m\u001b[38;5;124mdata/uber_hackathon_v2_mock_data.xlsx - rides_trips.csv\u001b[39m\u001b[38;5;124m'\u001b[39m)\n\u001b[0;32m      3\u001b[0m columns \u001b[38;5;241m=\u001b[39m [\u001b[38;5;124m'\u001b[39m\u001b[38;5;124mdistance_km\u001b[39m\u001b[38;5;124m'\u001b[39m, \u001b[38;5;124m'\u001b[39m\u001b[38;5;124mduration_mins\u001b[39m\u001b[38;5;124m'\u001b[39m, \u001b[38;5;124m'\u001b[39m\u001b[38;5;124mnet_earnings\u001b[39m\u001b[38;5;124m'\u001b[39m]\n",
            "\u001b[1;31mTypeError\u001b[0m: GaussianCopulaSynthesizer.__init__() missing 1 required positional argument: 'metadata'"
          ]
        }
      ],
      "source": [
        "model = GaussianCopulaSynthesizer()\n",
        "data = pd.read_csv('data/uber_hackathon_v2_mock_data.xlsx - rides_trips.csv')\n",
        "columns = ['distance_km', 'duration_mins', 'net_earnings']\n",
        "data = data[columns]\n",
        "model.fit(data)\n",
        "synthetic_data = model.sample(20)\n",
        "\n",
        "\n",
        "\n",
        "center_lat, center_lon = 0, 0\n",
        "std_km = 3  # average distance from center ~3 km\n",
        "std_deg = std_km * 0.009  # rough conversion from km to degrees\n",
        "\n",
        "std_lat = std_deg\n",
        "std_lon = std_deg * 111/71  # adjust for longitude compression\n",
        "\n",
        "n_points = 20  # number of trips\n",
        "\n",
        "# Covariance matrix: small correlation between lat/lon if desired\n",
        "cov_matrix = [[std_lat**2, 0], [0, std_lon**2]]  # no correlation\n",
        "\n",
        "# Sample points\n",
        "coords = np.random.multivariate_normal([center_lat, center_lon], cov_matrix, size=n_points)\n",
        "\n",
        "# Create DataFrame\n",
        "df_coords = pd.DataFrame(coords, columns=['pickup_lat', 'pickup_lon'])\n",
        "\n",
        "def move_point_flat(lat, lon, distance_km):\n",
        "    \"\"\"\n",
        "    Move (lat, lon) distance_km in a random direction, ignoring curvature.\n",
        "    \"\"\"\n",
        "    # Random direction in radians\n",
        "    angle = random.uniform(0, 2*math.pi)\n",
        "    \n",
        "    # Convert km to degrees\n",
        "    delta_lat = (distance_km * math.cos(angle)) / 111\n",
        "    delta_lon = (distance_km * math.sin(angle)) / (111 * math.cos(math.radians(lat)))\n",
        "    \n",
        "    # New point\n",
        "    new_lat = lat + delta_lat\n",
        "    new_lon = lon + delta_lon\n",
        "    \n",
        "    return new_lat, new_lon\n",
        "\n",
        "df_coords[['drop_lat', 'drop_lon']] = df_coords.apply(\n",
        "    lambda row: pd.Series(move_point_flat(row['pickup_lat'], row['pickup_lon'], random.uniform(0, 10))),\n",
        "    axis=1\n",
        ")\n",
        "\n",
        "\n",
        "\n",
        "generated_requests = pd.concat([df_coords, synthetic_data], axis=1)\n",
        "\n",
        "n = 20\n",
        "avg_gap = 30\n",
        "total_span = (n-1) * avg_gap\n",
        "\n",
        "# Base values equally spaced\n",
        "values = np.linspace(0, total_span, n)\n",
        "\n",
        "# Add small random noise to each gap\n",
        "noise = np.random.uniform(-15, 15, n)  # tweak noise range if desired\n",
        "values = values + noise\n",
        "\n",
        "# Clip to [0, 600] just in case\n",
        "values = np.clip(values, 0, 600)\n",
        "\n",
        "# Sort to ensure increasing order\n",
        "values = np.sort(values)\n",
        "\n",
        "\n",
        "generated_requests['start_time'] = values\n",
        "\n",
        "print(generated_requests)"
      ]
    }
  ],
  "metadata": {
    "colab": {
      "provenance": []
    },
    "kernelspec": {
      "display_name": "Python 3",
      "name": "python3"
    },
    "language_info": {
      "codemirror_mode": {
        "name": "ipython",
        "version": 3
      },
      "file_extension": ".py",
      "mimetype": "text/x-python",
      "name": "python",
      "nbconvert_exporter": "python",
      "pygments_lexer": "ipython3",
      "version": "3.11.9"
    }
  },
  "nbformat": 4,
  "nbformat_minor": 0
}
